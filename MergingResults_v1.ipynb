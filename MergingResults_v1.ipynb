{
 "cells": [
  {
   "cell_type": "markdown",
   "id": "a296d2b1",
   "metadata": {},
   "source": [
    "## Merging results of RNN plus networks"
   ]
  },
  {
   "cell_type": "code",
   "execution_count": 1,
   "id": "6ab5d8dd",
   "metadata": {},
   "outputs": [
    {
     "name": "stdout",
     "output_type": "stream",
     "text": [
      "++ Number of isBetter: \u001b[1msame\u001b[0m with \u001b[1m91\u001b[0m/180\n",
      "++ Number of isBetter: \u001b[1mworse\u001b[0m with \u001b[1m75\u001b[0m/180\n",
      "++ Number of isBetter: \u001b[1mbetter\u001b[0m with \u001b[1m14\u001b[0m/180\n"
     ]
    }
   ],
   "source": [
    "import os, sys\n",
    "import pandas as pd\n",
    "import matplotlib.pyplot as plt\n",
    "import numpy as np\n",
    "\n",
    "def plotFunction(data, title):\n",
    "    # Fixing random state for reproducibility\n",
    "    np.random.seed(19680801)\n",
    "    plt.rcdefaults()\n",
    "    fig, ax = plt.subplots()\n",
    "\n",
    "    # Example data\n",
    "    ax.barh(data.index, data.values, align='center')\n",
    "    ax.set_yticks(data.index)\n",
    "    ax.set_yticklabels(data.index)\n",
    "    ax.invert_yaxis()  # labels read top-to-bottom\n",
    "    ax.set_xlabel('Number of Dataset')\n",
    "    ax.set_title(title)\n",
    "\n",
    "    for i, v in enumerate(data.values):\n",
    "        ax.text(v + 0.5, i +0.05, str(v), color='black', fontweight='bold')\n",
    "    plt.show()\n",
    "    \n",
    "results_dir_i = \"./results/2_rnn_plus/rnn_plus_v1_30112021_ES_DS_UnRolled_LS/\"\n",
    "results_dir_o = \"./results/2_rnn_plus/rnn_plus_v1_30112021_ES_DS_UnRolled_LS_merged/\"\n",
    "results_list = sorted(os.listdir(results_dir_i))[1:]\n",
    "merged_results = None\n",
    "count = -1\n",
    "prefix = 'RNN_plus_v1' #'mse'\n",
    "\n",
    "if not os.path.exists(results_dir_o):\n",
    "    os.makedirs(results_dir_o)\n",
    "    \n",
    "with open('valacc.mse.txt') as f:\n",
    "    lines = ([line.replace('\\n', '').split(' ')[3:6:2] for line in f.readlines()[5:] if line.strip('\\n')])\n",
    "\n",
    "for line in lines:\n",
    "    count = count + 1 if count < 2 else 0\n",
    "    fn = line[0].split('/')[2].split('.')\n",
    "    fn_i = f\"{prefix}_{fn[1].split('=')[-1]}_{fn[2].split('=')[-1]}_{fn[3].split('=')[-1]}_{fn[4].split('s')[-1]}_{fn[5].split('n')[-1]}_{fn[6]}.csv\"\n",
    "    fn_o = f\"{prefix}_{fn[1].split('=')[-1]}_{fn[2].split('=')[-1]}_{fn[3].split('=')[-1]}_{fn[4].split('s')[-1]}_{fn[5].split('n')[-1]}_{fn[6]}_merged.csv\"\n",
    "    resultpath_i = results_dir_i + fn_i\n",
    "    resultpath_o = results_dir_o + fn_o\n",
    "    if not os.path.exists(resultpath_o):\n",
    "        result = pd.read_csv(resultpath_i, index_col=0)\n",
    "    else:\n",
    "        result = pd.read_csv(resultpath_o, index_col=0)\n",
    "        \n",
    "    result.loc[f'olstm_{count}'] = round(float(line[1]),5)\n",
    "    result.to_csv(resultpath_o, index=True)\n",
    "\n",
    "for results_item in sorted(os.listdir(results_dir_o)):\n",
    "    resultpath = results_dir_o + results_item\n",
    "    result = pd.read_csv(resultpath, index_col=0)\n",
    "    rnnplus_avg = float(result.loc['rnnplus_avg'].values[0])\n",
    "    olstm_avg = sum([float(result.loc['olstm_0'].values[0]), float(result.loc['olstm_1'].values[0]), float(result.loc['olstm_2'].values[0])])/3.0\n",
    "    delta = (rnnplus_avg - olstm_avg)\n",
    "    if delta > 0.01:\n",
    "        delta_bool = 'better'\n",
    "    elif delta < -0.01:\n",
    "        delta_bool = 'worse'\n",
    "    else:\n",
    "        delta_bool = 'same'\n",
    "    result = result.drop(labels=['olstm_0', 'olstm_1', 'olstm_2'], axis=0)\n",
    "    result.loc[f'olstm_avg'] = round(olstm_avg,6)\n",
    "    result.loc[f'delta'] = round(delta, 6)\n",
    "    result.loc[f'isbetter'] = delta_bool\n",
    "    result.to_csv(resultpath, index=True)\n",
    "    \n",
    "for results_item in sorted(os.listdir(results_dir_o)):\n",
    "    resultpath = results_dir_o + results_item\n",
    "    result = pd.read_csv(resultpath, index_col=0)\n",
    "    merged_results = result if merged_results is None else pd.concat([merged_results, result], axis=1)\n",
    "\n",
    "# merged_results = merged_results.drop(index='tuner/trial_id')\n",
    "merged_results.to_csv(results_dir_o + 'rnn_plus_v1_30112021_ES_DS_UnRolled_LS_mergedresult.csv', index=True)\n",
    "\n",
    "isbetter_pd = merged_results.T.groupby(['isbetter']).count()['dataset_no'].sort_values(ascending=False)\n",
    "print(f'++ Number of isBetter: \\033[1m{isbetter_pd.index[0]}\\033[0m with \\033[1m{isbetter_pd[0]}\\033[0m/180')\n",
    "print(f'++ Number of isBetter: \\033[1m{isbetter_pd.index[1]}\\033[0m with \\033[1m{isbetter_pd[1]}\\033[0m/180')\n",
    "print(f'++ Number of isBetter: \\033[1m{isbetter_pd.index[2]}\\033[0m with \\033[1m{isbetter_pd[2]}\\033[0m/180')"
   ]
  }
 ],
 "metadata": {
  "kernelspec": {
   "display_name": "master_thesis",
   "language": "python",
   "name": "master_thesis"
  },
  "language_info": {
   "codemirror_mode": {
    "name": "ipython",
    "version": 3
   },
   "file_extension": ".py",
   "mimetype": "text/x-python",
   "name": "python",
   "nbconvert_exporter": "python",
   "pygments_lexer": "ipython3",
   "version": "3.9.7"
  }
 },
 "nbformat": 4,
 "nbformat_minor": 5
}
