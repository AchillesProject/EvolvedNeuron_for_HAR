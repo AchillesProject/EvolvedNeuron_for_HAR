{
 "cells": [
  {
   "cell_type": "code",
   "execution_count": 1,
   "id": "014c1834-2e8b-4ef0-b778-ad180d274bef",
   "metadata": {
    "tags": []
   },
   "outputs": [
    {
     "name": "stdout",
     "output_type": "stream",
     "text": [
      "2.6.0\n"
     ]
    }
   ],
   "source": [
    "import tensorflow as tf\n",
    "\n",
    "from tensorflow.keras.models import Sequential\n",
    "from tensorflow.keras.layers import Input, Dense, Conv2D, LSTM, MaxPooling2D,AveragePooling2D,GlobalMaxPooling2D, GlobalAveragePooling2D, Flatten, Dropout, Reshape, BatchNormalization, ReLU\n",
    "from tensorflow.keras.regularizers import l2\n",
    "from tensorflow.keras.optimizers import Adam, SGD\n",
    "from tensorflow.keras.callbacks import EarlyStopping, ModelCheckpoint\n",
    "import tensorboard\n",
    "from sklearn import metrics\n",
    "from sklearn.model_selection import train_test_split\n",
    "from sklearn.preprocessing import OneHotEncoder, LabelEncoder, RobustScaler\n",
    "\n",
    "from functools import partial\n",
    "from matplotlib import rc, style\n",
    "import matplotlib.pyplot as plt\n",
    "import seaborn as sns\n",
    "from pylab import rcParams\n",
    "import pandas as pd #pd.plotting.register_matplotlib_converters\n",
    "import numpy as np\n",
    "from scipy import stats\n",
    "\n",
    "import sys, os, math, time, datetime\n",
    "\n",
    "\n",
    "# reduce number of threads\n",
    "# os.environ['TF_NUM_INTEROP_THREADS'] = '1' \n",
    "# os.environ['TF_NUM_INTRAOP_THREADS'] = '1' \n",
    "\n",
    "# disable GPU and anable MKL OneDNN\n",
    "tf.config.set_visible_devices([], 'GPU')\n",
    "os.environ['TF_ENABLE_ONEDNN_OPTS'] = '1'\n",
    "os.environ['DNNL_VERBOSE'] = '0'\n",
    "\n",
    "style.use(\"seaborn\")\n",
    "pd.plotting.register_matplotlib_converters()\n",
    "sns.set(style='whitegrid', palette='muted', font_scale = 1)\n",
    "\n",
    "tf.get_logger().setLevel('ERROR')\n",
    "tf.autograph.set_verbosity(1)\n",
    "# tf.compat.v1.disable_eager_execution()\n",
    "\n",
    "LOOP_NUMBER=1\n",
    "\n",
    "def shifting(bitlist):\n",
    "    out = 0\n",
    "    for bit in bitlist:\n",
    "        out = (out << 1) | bit\n",
    "    return out\n",
    "\n",
    "def fromBit( b ) :\n",
    "    if b == 0.0 :\n",
    "        return -0.9\n",
    "    return 0.9\n",
    "\n",
    "def isCorrect( target, actual ) :\n",
    "    if target < 0.0 :\n",
    "        y1 = False\n",
    "    else :\n",
    "        y1 = True\n",
    "    if actual < 0.0 :\n",
    "        y2 = False\n",
    "    else :\n",
    "        y2 = True\n",
    "    return y1 == y2\n",
    "\n",
    "print(tf.__version__)"
   ]
  },
  {
   "cell_type": "code",
   "execution_count": 2,
   "id": "3edbb05b-4069-4960-a935-19af643592c5",
   "metadata": {
    "tags": []
   },
   "outputs": [
    {
     "data": {
      "text/plain": [
       "'Starting with ./results/mse_07102021_ES/mse_3_5_30_128_9_2.csv'"
      ]
     },
     "metadata": {},
     "output_type": "display_data"
    },
    {
     "data": {
      "text/plain": [
       "'./Version9.128timesteps/seqnetdata.ni=3.no=5.mc=30.numTimeSteps128.version9.2.csv'"
      ]
     },
     "metadata": {},
     "output_type": "display_data"
    },
    {
     "name": "stdout",
     "output_type": "stream",
     "text": [
      "Step 1: Dividing the training and testing set with ratio 1:1 (50%).\n",
      "(5000, 1024) (4999, 1024)\n",
      "Step 2: Separating values and labels.\n",
      "+ Training set:    (5000, 128, 3) (5000, 5) float32\n",
      "+ Validation set:  (4999, 128, 3) (4999, 5) float32\n",
      "Epoch 1/3\n",
      "5000/5000 [==============================] - 97s 19ms/step - loss: 0.8126 - mse: 0.8126 - val_loss: 0.8111 - val_mse: 0.8111\n",
      "Epoch 2/3\n",
      "5000/5000 [==============================] - 77s 15ms/step - loss: 0.8109 - mse: 0.8109 - val_loss: 0.8116 - val_mse: 0.8116\n",
      "Epoch 3/3\n",
      "5000/5000 [==============================] - 92s 18ms/step - loss: 0.8107 - mse: 0.8107 - val_loss: 0.8111 - val_mse: 0.8111\n",
      "157/157 [==============================] - 1s 5ms/step - loss: 0.8111 - mse: 0.8111\n"
     ]
    },
    {
     "data": {
      "text/plain": [
       "[0.8110888004302979, 0.8110888004302979]"
      ]
     },
     "metadata": {},
     "output_type": "display_data"
    },
    {
     "name": "stdout",
     "output_type": "stream",
     "text": [
      "157/157 [==============================] - 1s 5ms/step\n",
      "Prediction_Accuracy_0 = 0.49654\n",
      "Epoch 1/3\n",
      "5000/5000 [==============================] - 92s 18ms/step - loss: 0.8108 - mse: 0.8108 - val_loss: 0.8108 - val_mse: 0.8108\n",
      "Epoch 2/3\n",
      "5000/5000 [==============================] - 95s 19ms/step - loss: 0.8102 - mse: 0.8102 - val_loss: 0.8118 - val_mse: 0.8118\n",
      "Epoch 3/3\n",
      "5000/5000 [==============================] - 96s 19ms/step - loss: 0.8102 - mse: 0.8102 - val_loss: 0.8112 - val_mse: 0.8112\n",
      "157/157 [==============================] - 1s 6ms/step - loss: 0.8112 - mse: 0.8112\n"
     ]
    },
    {
     "data": {
      "text/plain": [
       "[0.8112238049507141, 0.8112238049507141]"
      ]
     },
     "metadata": {},
     "output_type": "display_data"
    },
    {
     "name": "stdout",
     "output_type": "stream",
     "text": [
      "157/157 [==============================] - 1s 5ms/step\n",
      "Prediction_Accuracy_1 = 0.50202\n",
      "Epoch 1/3\n",
      "5000/5000 [==============================] - 95s 19ms/step - loss: 0.8099 - mse: 0.8099 - val_loss: 0.8111 - val_mse: 0.8111\n",
      "Epoch 2/3\n",
      "5000/5000 [==============================] - 94s 19ms/step - loss: 0.8095 - mse: 0.8095 - val_loss: 0.8121 - val_mse: 0.8121\n",
      "Epoch 3/3\n",
      "5000/5000 [==============================] - 94s 19ms/step - loss: 0.8095 - mse: 0.8095 - val_loss: 0.8120 - val_mse: 0.8120\n",
      "157/157 [==============================] - 1s 6ms/step - loss: 0.8120 - mse: 0.8120\n"
     ]
    },
    {
     "data": {
      "text/plain": [
       "[0.8120076060295105, 0.8120076060295105]"
      ]
     },
     "metadata": {},
     "output_type": "display_data"
    },
    {
     "name": "stdout",
     "output_type": "stream",
     "text": [
      "157/157 [==============================] - 1s 5ms/step\n",
      "Prediction_Accuracy_2 = 0.4993\n"
     ]
    },
    {
     "data": {
      "text/plain": [
       "'Starting with ./results/mse_07102021_ES/mse_3_5_30_128_9_15.csv'"
      ]
     },
     "metadata": {},
     "output_type": "display_data"
    },
    {
     "data": {
      "text/plain": [
       "'./Version9.128timesteps/seqnetdata.ni=3.no=5.mc=30.numTimeSteps128.version9.15.csv'"
      ]
     },
     "metadata": {},
     "output_type": "display_data"
    },
    {
     "name": "stdout",
     "output_type": "stream",
     "text": [
      "Step 1: Dividing the training and testing set with ratio 1:1 (50%).\n",
      "(5000, 1024) (4999, 1024)\n",
      "Step 2: Separating values and labels.\n",
      "+ Training set:    (5000, 128, 3) (5000, 5) float32\n",
      "+ Validation set:  (4999, 128, 3) (4999, 5) float32\n",
      "Epoch 1/8\n",
      "5000/5000 [==============================] - 84s 17ms/step - loss: 0.7548 - mse: 0.7548 - val_loss: 0.7499 - val_mse: 0.7499\n",
      "Epoch 2/8\n",
      "5000/5000 [==============================] - 88s 18ms/step - loss: 0.7507 - mse: 0.7507 - val_loss: 0.7557 - val_mse: 0.7557\n",
      "Epoch 3/8\n",
      "5000/5000 [==============================] - 89s 18ms/step - loss: 0.7480 - mse: 0.7480 - val_loss: 0.7484 - val_mse: 0.7484\n",
      "Epoch 4/8\n",
      "5000/5000 [==============================] - 88s 18ms/step - loss: 0.7470 - mse: 0.7470 - val_loss: 0.7474 - val_mse: 0.7474\n",
      "Epoch 5/8\n",
      "5000/5000 [==============================] - 89s 18ms/step - loss: 0.7463 - mse: 0.7463 - val_loss: 0.7591 - val_mse: 0.7591\n",
      "Epoch 6/8\n",
      "5000/5000 [==============================] - 90s 18ms/step - loss: 0.7468 - mse: 0.7468 - val_loss: 0.7463 - val_mse: 0.7463\n",
      "Epoch 7/8\n",
      "5000/5000 [==============================] - 81s 16ms/step - loss: 0.7454 - mse: 0.7454 - val_loss: 0.7500 - val_mse: 0.7500\n",
      "Epoch 8/8\n",
      "5000/5000 [==============================] - 87s 17ms/step - loss: 0.7454 - mse: 0.7454 - val_loss: 0.7508 - val_mse: 0.7508\n",
      "157/157 [==============================] - 1s 4ms/step - loss: 0.7508 - mse: 0.7508\n"
     ]
    },
    {
     "data": {
      "text/plain": [
       "[0.7508466243743896, 0.7508466243743896]"
      ]
     },
     "metadata": {},
     "output_type": "display_data"
    },
    {
     "name": "stdout",
     "output_type": "stream",
     "text": [
      "157/157 [==============================] - 1s 4ms/step\n",
      "Prediction_Accuracy_0 = 0.56863\n",
      "Epoch 1/8\n",
      "5000/5000 [==============================] - 76s 15ms/step - loss: 0.7463 - mse: 0.7463 - val_loss: 0.7453 - val_mse: 0.7453\n",
      "Epoch 2/8\n",
      "5000/5000 [==============================] - 89s 18ms/step - loss: 0.7457 - mse: 0.7457 - val_loss: 0.7525 - val_mse: 0.7525\n",
      "Epoch 3/8\n",
      "5000/5000 [==============================] - 84s 17ms/step - loss: 0.7455 - mse: 0.7455 - val_loss: 0.7499 - val_mse: 0.7499\n",
      "Epoch 4/8\n",
      "5000/5000 [==============================] - 89s 18ms/step - loss: 0.7454 - mse: 0.7454 - val_loss: 0.7557 - val_mse: 0.7557\n",
      "Epoch 5/8\n",
      "5000/5000 [==============================] - 86s 17ms/step - loss: 0.7448 - mse: 0.7448 - val_loss: 0.7470 - val_mse: 0.7470\n",
      "Epoch 6/8\n",
      "5000/5000 [==============================] - 86s 17ms/step - loss: 0.7458 - mse: 0.7458 - val_loss: 0.7496 - val_mse: 0.7496\n",
      "Epoch 7/8\n",
      "5000/5000 [==============================] - 87s 17ms/step - loss: 0.7448 - mse: 0.7448 - val_loss: 0.7479 - val_mse: 0.7479\n",
      "Epoch 8/8\n",
      "5000/5000 [==============================] - 88s 18ms/step - loss: 0.7452 - mse: 0.7452 - val_loss: 0.7465 - val_mse: 0.7465\n",
      "157/157 [==============================] - 1s 5ms/step - loss: 0.7465 - mse: 0.7465\n"
     ]
    },
    {
     "data": {
      "text/plain": [
       "[0.7464812994003296, 0.7464812994003296]"
      ]
     },
     "metadata": {},
     "output_type": "display_data"
    },
    {
     "name": "stdout",
     "output_type": "stream",
     "text": [
      "157/157 [==============================] - 1s 5ms/step\n",
      "Prediction_Accuracy_1 = 0.56619\n",
      "Epoch 1/8\n",
      "5000/5000 [==============================] - 87s 17ms/step - loss: 0.7452 - mse: 0.7452 - val_loss: 0.7487 - val_mse: 0.7487\n",
      "Epoch 2/8\n",
      "5000/5000 [==============================] - 86s 17ms/step - loss: 0.7437 - mse: 0.7437 - val_loss: 0.7562 - val_mse: 0.7562\n",
      "Epoch 3/8\n",
      "5000/5000 [==============================] - 87s 17ms/step - loss: 0.7452 - mse: 0.7452 - val_loss: 0.7479 - val_mse: 0.7479\n",
      "Epoch 4/8\n",
      "5000/5000 [==============================] - 85s 17ms/step - loss: 0.7449 - mse: 0.7449 - val_loss: 0.7495 - val_mse: 0.7495\n",
      "Epoch 5/8\n",
      "5000/5000 [==============================] - 86s 17ms/step - loss: 0.7451 - mse: 0.7451 - val_loss: 0.7444 - val_mse: 0.7444\n",
      "Epoch 6/8\n",
      "5000/5000 [==============================] - 88s 18ms/step - loss: 0.7446 - mse: 0.7446 - val_loss: 0.7494 - val_mse: 0.7494\n",
      "Epoch 7/8\n",
      "5000/5000 [==============================] - 89s 18ms/step - loss: 0.7446 - mse: 0.7446 - val_loss: 0.7483 - val_mse: 0.7483\n",
      "Epoch 8/8\n",
      "5000/5000 [==============================] - 87s 17ms/step - loss: 0.7450 - mse: 0.7450 - val_loss: 0.7489 - val_mse: 0.7489\n",
      "157/157 [==============================] - 1s 6ms/step - loss: 0.7489 - mse: 0.7489\n"
     ]
    },
    {
     "data": {
      "text/plain": [
       "[0.7488794922828674, 0.7488794922828674]"
      ]
     },
     "metadata": {},
     "output_type": "display_data"
    },
    {
     "name": "stdout",
     "output_type": "stream",
     "text": [
      "157/157 [==============================] - 1s 5ms/step\n",
      "Prediction_Accuracy_2 = 0.57087\n"
     ]
    },
    {
     "data": {
      "text/plain": [
       "'Starting with ./results/mse_07102021_ES/mse_3_5_7_128_9_43.csv'"
      ]
     },
     "metadata": {},
     "output_type": "display_data"
    },
    {
     "data": {
      "text/plain": [
       "'./Version9.128timesteps/seqnetdata.ni=3.no=5.mc=7.numTimeSteps128.version9.43.csv'"
      ]
     },
     "metadata": {},
     "output_type": "display_data"
    },
    {
     "name": "stdout",
     "output_type": "stream",
     "text": [
      "Step 1: Dividing the training and testing set with ratio 1:1 (50%).\n",
      "(5000, 1024) (4999, 1024)\n",
      "Step 2: Separating values and labels.\n",
      "+ Training set:    (5000, 128, 3) (5000, 5) float32\n",
      "+ Validation set:  (4999, 128, 3) (4999, 5) float32\n",
      "Epoch 1/3\n",
      "5000/5000 [==============================] - 90s 18ms/step - loss: 0.3463 - mse: 0.3463 - val_loss: 0.2205 - val_mse: 0.2205\n",
      "Epoch 2/3\n",
      "4998/5000 [============================>.] - ETA: 0s - loss: 0.2156 - mse: 0.2156"
     ]
    },
    {
     "ename": "KeyboardInterrupt",
     "evalue": "",
     "output_type": "error",
     "traceback": [
      "\u001b[0;31m---------------------------------------------------------------------------\u001b[0m",
      "\u001b[0;31mKeyboardInterrupt\u001b[0m                         Traceback (most recent call last)",
      "\u001b[0;32m<ipython-input-2-fcd67f55e857>\u001b[0m in \u001b[0;36m<module>\u001b[0;34m\u001b[0m\n\u001b[1;32m     84\u001b[0m         \u001b[0mstrt_time\u001b[0m \u001b[0;34m=\u001b[0m \u001b[0mdatetime\u001b[0m\u001b[0;34m.\u001b[0m\u001b[0mdatetime\u001b[0m\u001b[0;34m.\u001b[0m\u001b[0mnow\u001b[0m\u001b[0;34m(\u001b[0m\u001b[0;34m)\u001b[0m\u001b[0;34m\u001b[0m\u001b[0;34m\u001b[0m\u001b[0m\n\u001b[1;32m     85\u001b[0m \u001b[0;34m\u001b[0m\u001b[0m\n\u001b[0;32m---> 86\u001b[0;31m         lstm_model.fit(\n\u001b[0m\u001b[1;32m     87\u001b[0m             \u001b[0mx_train\u001b[0m\u001b[0;34m,\u001b[0m \u001b[0my_train\u001b[0m\u001b[0;34m,\u001b[0m\u001b[0;34m\u001b[0m\u001b[0;34m\u001b[0m\u001b[0m\n\u001b[1;32m     88\u001b[0m             \u001b[0mbatch_size\u001b[0m\u001b[0;34m=\u001b[0m\u001b[0;36m1\u001b[0m\u001b[0;34m,\u001b[0m\u001b[0;34m\u001b[0m\u001b[0;34m\u001b[0m\u001b[0m\n",
      "\u001b[0;32m~/anaconda3/envs/py385_gpu/lib/python3.8/site-packages/keras/engine/training.py\u001b[0m in \u001b[0;36mfit\u001b[0;34m(self, x, y, batch_size, epochs, verbose, callbacks, validation_split, validation_data, shuffle, class_weight, sample_weight, initial_epoch, steps_per_epoch, validation_steps, validation_batch_size, validation_freq, max_queue_size, workers, use_multiprocessing)\u001b[0m\n\u001b[1;32m   1213\u001b[0m                 \u001b[0mmodel\u001b[0m\u001b[0;34m=\u001b[0m\u001b[0mself\u001b[0m\u001b[0;34m,\u001b[0m\u001b[0;34m\u001b[0m\u001b[0;34m\u001b[0m\u001b[0m\n\u001b[1;32m   1214\u001b[0m                 steps_per_execution=self._steps_per_execution)\n\u001b[0;32m-> 1215\u001b[0;31m           val_logs = self.evaluate(\n\u001b[0m\u001b[1;32m   1216\u001b[0m               \u001b[0mx\u001b[0m\u001b[0;34m=\u001b[0m\u001b[0mval_x\u001b[0m\u001b[0;34m,\u001b[0m\u001b[0;34m\u001b[0m\u001b[0;34m\u001b[0m\u001b[0m\n\u001b[1;32m   1217\u001b[0m               \u001b[0my\u001b[0m\u001b[0;34m=\u001b[0m\u001b[0mval_y\u001b[0m\u001b[0;34m,\u001b[0m\u001b[0;34m\u001b[0m\u001b[0;34m\u001b[0m\u001b[0m\n",
      "\u001b[0;32m~/anaconda3/envs/py385_gpu/lib/python3.8/site-packages/keras/engine/training.py\u001b[0m in \u001b[0;36mevaluate\u001b[0;34m(self, x, y, batch_size, verbose, sample_weight, steps, callbacks, max_queue_size, workers, use_multiprocessing, return_dict, **kwargs)\u001b[0m\n\u001b[1;32m   1499\u001b[0m             \u001b[0;32mwith\u001b[0m \u001b[0mtf\u001b[0m\u001b[0;34m.\u001b[0m\u001b[0mprofiler\u001b[0m\u001b[0;34m.\u001b[0m\u001b[0mexperimental\u001b[0m\u001b[0;34m.\u001b[0m\u001b[0mTrace\u001b[0m\u001b[0;34m(\u001b[0m\u001b[0;34m'test'\u001b[0m\u001b[0;34m,\u001b[0m \u001b[0mstep_num\u001b[0m\u001b[0;34m=\u001b[0m\u001b[0mstep\u001b[0m\u001b[0;34m,\u001b[0m \u001b[0m_r\u001b[0m\u001b[0;34m=\u001b[0m\u001b[0;36m1\u001b[0m\u001b[0;34m)\u001b[0m\u001b[0;34m:\u001b[0m\u001b[0;34m\u001b[0m\u001b[0;34m\u001b[0m\u001b[0m\n\u001b[1;32m   1500\u001b[0m               \u001b[0mcallbacks\u001b[0m\u001b[0;34m.\u001b[0m\u001b[0mon_test_batch_begin\u001b[0m\u001b[0;34m(\u001b[0m\u001b[0mstep\u001b[0m\u001b[0;34m)\u001b[0m\u001b[0;34m\u001b[0m\u001b[0;34m\u001b[0m\u001b[0m\n\u001b[0;32m-> 1501\u001b[0;31m               \u001b[0mtmp_logs\u001b[0m \u001b[0;34m=\u001b[0m \u001b[0mself\u001b[0m\u001b[0;34m.\u001b[0m\u001b[0mtest_function\u001b[0m\u001b[0;34m(\u001b[0m\u001b[0miterator\u001b[0m\u001b[0;34m)\u001b[0m\u001b[0;34m\u001b[0m\u001b[0;34m\u001b[0m\u001b[0m\n\u001b[0m\u001b[1;32m   1502\u001b[0m               \u001b[0;32mif\u001b[0m \u001b[0mdata_handler\u001b[0m\u001b[0;34m.\u001b[0m\u001b[0mshould_sync\u001b[0m\u001b[0;34m:\u001b[0m\u001b[0;34m\u001b[0m\u001b[0;34m\u001b[0m\u001b[0m\n\u001b[1;32m   1503\u001b[0m                 \u001b[0mcontext\u001b[0m\u001b[0;34m.\u001b[0m\u001b[0masync_wait\u001b[0m\u001b[0;34m(\u001b[0m\u001b[0;34m)\u001b[0m\u001b[0;34m\u001b[0m\u001b[0;34m\u001b[0m\u001b[0m\n",
      "\u001b[0;32m~/anaconda3/envs/py385_gpu/lib/python3.8/site-packages/tensorflow/python/eager/def_function.py\u001b[0m in \u001b[0;36m__call__\u001b[0;34m(self, *args, **kwds)\u001b[0m\n\u001b[1;32m    883\u001b[0m \u001b[0;34m\u001b[0m\u001b[0m\n\u001b[1;32m    884\u001b[0m       \u001b[0;32mwith\u001b[0m \u001b[0mOptionalXlaContext\u001b[0m\u001b[0;34m(\u001b[0m\u001b[0mself\u001b[0m\u001b[0;34m.\u001b[0m\u001b[0m_jit_compile\u001b[0m\u001b[0;34m)\u001b[0m\u001b[0;34m:\u001b[0m\u001b[0;34m\u001b[0m\u001b[0;34m\u001b[0m\u001b[0m\n\u001b[0;32m--> 885\u001b[0;31m         \u001b[0mresult\u001b[0m \u001b[0;34m=\u001b[0m \u001b[0mself\u001b[0m\u001b[0;34m.\u001b[0m\u001b[0m_call\u001b[0m\u001b[0;34m(\u001b[0m\u001b[0;34m*\u001b[0m\u001b[0margs\u001b[0m\u001b[0;34m,\u001b[0m \u001b[0;34m**\u001b[0m\u001b[0mkwds\u001b[0m\u001b[0;34m)\u001b[0m\u001b[0;34m\u001b[0m\u001b[0;34m\u001b[0m\u001b[0m\n\u001b[0m\u001b[1;32m    886\u001b[0m \u001b[0;34m\u001b[0m\u001b[0m\n\u001b[1;32m    887\u001b[0m       \u001b[0mnew_tracing_count\u001b[0m \u001b[0;34m=\u001b[0m \u001b[0mself\u001b[0m\u001b[0;34m.\u001b[0m\u001b[0mexperimental_get_tracing_count\u001b[0m\u001b[0;34m(\u001b[0m\u001b[0;34m)\u001b[0m\u001b[0;34m\u001b[0m\u001b[0;34m\u001b[0m\u001b[0m\n",
      "\u001b[0;32m~/anaconda3/envs/py385_gpu/lib/python3.8/site-packages/tensorflow/python/eager/def_function.py\u001b[0m in \u001b[0;36m_call\u001b[0;34m(self, *args, **kwds)\u001b[0m\n\u001b[1;32m    922\u001b[0m       \u001b[0;31m# In this case we have not created variables on the first call. So we can\u001b[0m\u001b[0;34m\u001b[0m\u001b[0;34m\u001b[0m\u001b[0;34m\u001b[0m\u001b[0m\n\u001b[1;32m    923\u001b[0m       \u001b[0;31m# run the first trace but we should fail if variables are created.\u001b[0m\u001b[0;34m\u001b[0m\u001b[0;34m\u001b[0m\u001b[0;34m\u001b[0m\u001b[0m\n\u001b[0;32m--> 924\u001b[0;31m       \u001b[0mresults\u001b[0m \u001b[0;34m=\u001b[0m \u001b[0mself\u001b[0m\u001b[0;34m.\u001b[0m\u001b[0m_stateful_fn\u001b[0m\u001b[0;34m(\u001b[0m\u001b[0;34m*\u001b[0m\u001b[0margs\u001b[0m\u001b[0;34m,\u001b[0m \u001b[0;34m**\u001b[0m\u001b[0mkwds\u001b[0m\u001b[0;34m)\u001b[0m\u001b[0;34m\u001b[0m\u001b[0;34m\u001b[0m\u001b[0m\n\u001b[0m\u001b[1;32m    925\u001b[0m       \u001b[0;32mif\u001b[0m \u001b[0mself\u001b[0m\u001b[0;34m.\u001b[0m\u001b[0m_created_variables\u001b[0m \u001b[0;32mand\u001b[0m \u001b[0;32mnot\u001b[0m \u001b[0mALLOW_DYNAMIC_VARIABLE_CREATION\u001b[0m\u001b[0;34m:\u001b[0m\u001b[0;34m\u001b[0m\u001b[0;34m\u001b[0m\u001b[0m\n\u001b[1;32m    926\u001b[0m         raise ValueError(\"Creating variables on a non-first call to a function\"\n",
      "\u001b[0;32m~/anaconda3/envs/py385_gpu/lib/python3.8/site-packages/tensorflow/python/eager/function.py\u001b[0m in \u001b[0;36m__call__\u001b[0;34m(self, *args, **kwargs)\u001b[0m\n\u001b[1;32m   3037\u001b[0m       (graph_function,\n\u001b[1;32m   3038\u001b[0m        filtered_flat_args) = self._maybe_define_function(args, kwargs)\n\u001b[0;32m-> 3039\u001b[0;31m     return graph_function._call_flat(\n\u001b[0m\u001b[1;32m   3040\u001b[0m         filtered_flat_args, captured_inputs=graph_function.captured_inputs)  # pylint: disable=protected-access\n\u001b[1;32m   3041\u001b[0m \u001b[0;34m\u001b[0m\u001b[0m\n",
      "\u001b[0;32m~/anaconda3/envs/py385_gpu/lib/python3.8/site-packages/tensorflow/python/eager/function.py\u001b[0m in \u001b[0;36m_call_flat\u001b[0;34m(self, args, captured_inputs, cancellation_manager)\u001b[0m\n\u001b[1;32m   1961\u001b[0m         and executing_eagerly):\n\u001b[1;32m   1962\u001b[0m       \u001b[0;31m# No tape is watching; skip to running the function.\u001b[0m\u001b[0;34m\u001b[0m\u001b[0;34m\u001b[0m\u001b[0;34m\u001b[0m\u001b[0m\n\u001b[0;32m-> 1963\u001b[0;31m       return self._build_call_outputs(self._inference_function.call(\n\u001b[0m\u001b[1;32m   1964\u001b[0m           ctx, args, cancellation_manager=cancellation_manager))\n\u001b[1;32m   1965\u001b[0m     forward_backward = self._select_forward_and_backward_functions(\n",
      "\u001b[0;32m~/anaconda3/envs/py385_gpu/lib/python3.8/site-packages/tensorflow/python/eager/function.py\u001b[0m in \u001b[0;36mcall\u001b[0;34m(self, ctx, args, cancellation_manager)\u001b[0m\n\u001b[1;32m    589\u001b[0m       \u001b[0;32mwith\u001b[0m \u001b[0m_InterpolateFunctionError\u001b[0m\u001b[0;34m(\u001b[0m\u001b[0mself\u001b[0m\u001b[0;34m)\u001b[0m\u001b[0;34m:\u001b[0m\u001b[0;34m\u001b[0m\u001b[0;34m\u001b[0m\u001b[0m\n\u001b[1;32m    590\u001b[0m         \u001b[0;32mif\u001b[0m \u001b[0mcancellation_manager\u001b[0m \u001b[0;32mis\u001b[0m \u001b[0;32mNone\u001b[0m\u001b[0;34m:\u001b[0m\u001b[0;34m\u001b[0m\u001b[0;34m\u001b[0m\u001b[0m\n\u001b[0;32m--> 591\u001b[0;31m           outputs = execute.execute(\n\u001b[0m\u001b[1;32m    592\u001b[0m               \u001b[0mstr\u001b[0m\u001b[0;34m(\u001b[0m\u001b[0mself\u001b[0m\u001b[0;34m.\u001b[0m\u001b[0msignature\u001b[0m\u001b[0;34m.\u001b[0m\u001b[0mname\u001b[0m\u001b[0;34m)\u001b[0m\u001b[0;34m,\u001b[0m\u001b[0;34m\u001b[0m\u001b[0;34m\u001b[0m\u001b[0m\n\u001b[1;32m    593\u001b[0m               \u001b[0mnum_outputs\u001b[0m\u001b[0;34m=\u001b[0m\u001b[0mself\u001b[0m\u001b[0;34m.\u001b[0m\u001b[0m_num_outputs\u001b[0m\u001b[0;34m,\u001b[0m\u001b[0;34m\u001b[0m\u001b[0;34m\u001b[0m\u001b[0m\n",
      "\u001b[0;32m~/anaconda3/envs/py385_gpu/lib/python3.8/site-packages/tensorflow/python/eager/execute.py\u001b[0m in \u001b[0;36mquick_execute\u001b[0;34m(op_name, num_outputs, inputs, attrs, ctx, name)\u001b[0m\n\u001b[1;32m     57\u001b[0m   \u001b[0;32mtry\u001b[0m\u001b[0;34m:\u001b[0m\u001b[0;34m\u001b[0m\u001b[0;34m\u001b[0m\u001b[0m\n\u001b[1;32m     58\u001b[0m     \u001b[0mctx\u001b[0m\u001b[0;34m.\u001b[0m\u001b[0mensure_initialized\u001b[0m\u001b[0;34m(\u001b[0m\u001b[0;34m)\u001b[0m\u001b[0;34m\u001b[0m\u001b[0;34m\u001b[0m\u001b[0m\n\u001b[0;32m---> 59\u001b[0;31m     tensors = pywrap_tfe.TFE_Py_Execute(ctx._handle, device_name, op_name,\n\u001b[0m\u001b[1;32m     60\u001b[0m                                         inputs, attrs, num_outputs)\n\u001b[1;32m     61\u001b[0m   \u001b[0;32mexcept\u001b[0m \u001b[0mcore\u001b[0m\u001b[0;34m.\u001b[0m\u001b[0m_NotOkStatusException\u001b[0m \u001b[0;32mas\u001b[0m \u001b[0me\u001b[0m\u001b[0;34m:\u001b[0m\u001b[0;34m\u001b[0m\u001b[0;34m\u001b[0m\u001b[0m\n",
      "\u001b[0;31mKeyboardInterrupt\u001b[0m: "
     ]
    }
   ],
   "source": [
    "results_dir = \"./results/mse_07102021_ES/\"\n",
    "results_list = os.listdir(results_dir)\n",
    "\n",
    "for results_item in results_list:\n",
    "    resultpath = results_dir + results_item\n",
    "    display(f'Starting with {resultpath}')\n",
    "    result = pd.read_csv(resultpath, index_col=0)\n",
    "    dataset_no = result.loc['dataset_no'].values[0].split('_')\n",
    "    dataset_name = f'seqnetdata.ni={dataset_no[1]}.no={dataset_no[2]}.mc={dataset_no[3]}.numTimeSteps{dataset_no[4]}.version{dataset_no[5]}.{dataset_no[6]}.csv'\n",
    "    af_LSTM = result.loc['af_LSTM'].values[0]\n",
    "    raf_LSTM = result.loc['raf_LSTM'].values[0]\n",
    "    af_dense = result.loc['af_dense'].values[0]\n",
    "    optimizer_dense = result.loc['optimizer'].values[0]\n",
    "    learningrate = float(result.loc['learning_rate'].values[0])\n",
    "    epoch_no = int(result.loc['tuner/epochs'].values[0])\n",
    "\n",
    "    datapath = f'./Version9.128timesteps/{dataset_name}'\n",
    "    display(datapath)\n",
    "    with open(datapath, \"r\") as fp:\n",
    "        [noInput, noOutput] = [int(x) for x in fp.readline().split(',')]\n",
    "    rdf = np.array(pd.read_csv(datapath, skiprows=1))\n",
    "\n",
    "    print('Step 1: Dividing the training and testing set with ratio 1:1 (50%).')\n",
    "    df_val, df_train = train_test_split(rdf,test_size=0.5)\n",
    "    print(df_train.shape, df_val.shape)\n",
    "\n",
    "    print('Step 2: Separating values and labels.')\n",
    "    # Training set\n",
    "    x_train, y_train, x_val, y_val = None, None, None, None\n",
    "    for i in range(df_train.shape[0]):\n",
    "        df_train_i = df_train[i].reshape(-1, noInput+noOutput).astype('float32')\n",
    "        x_train_i, y_train_i = df_train_i[:, 0:noInput], df_train_i[-1, noInput:]\n",
    "        x_train = x_train_i[np.newaxis,:,:] if x_train is None else np.append(x_train, x_train_i[np.newaxis,:,:], axis=0)\n",
    "        y_train = y_train_i.reshape(1, -1) if y_train is None else np.append(y_train, y_train_i.reshape(1, -1), axis=0)\n",
    "    print(\"+ Training set:   \", x_train.shape, y_train.shape, x_train.dtype)\n",
    "\n",
    "    # Validation set\n",
    "    x_test, y_test = None, None\n",
    "    for i in range(df_val.shape[0]):\n",
    "        df_val_i = df_val[i].reshape(-1, noInput+noOutput).astype('float32')\n",
    "        x_val_i, y_val_i = df_val_i[:, 0:noInput], df_val_i[-1, noInput:]\n",
    "        x_val = x_val_i[np.newaxis,:,:] if x_val is None else np.append(x_val, x_val_i[np.newaxis,:,:], axis=0)\n",
    "        y_val = y_val_i.reshape(1,-1) if y_val is None else np.append(y_val, y_val_i.reshape(1,-1), axis=0)\n",
    "    print(\"+ Validation set: \", x_val.shape, y_val.shape, x_val.dtype)\n",
    "\n",
    "    for i in range( x_train.shape[ 0 ] ) :\n",
    "        for j in range( x_train.shape[ 1 ] ) :\n",
    "            for k in range( x_train.shape[ 2 ] ) :\n",
    "                x_train[ i, j, k ] = fromBit( x_train[ i, j, k ] )\n",
    "\n",
    "    for i in range( y_train.shape[ 0 ] ) :\n",
    "        for j in range( y_train.shape[ 1 ] ) :\n",
    "            y_train[ i, j ] = fromBit( y_train[ i, j ] )\n",
    "\n",
    "    for i in range( x_val.shape[ 0 ] ) :\n",
    "        for j in range( x_val.shape[ 1 ] ) :\n",
    "            for k in range( x_val.shape[ 2 ] ) :\n",
    "                x_val[ i, j, k ] = fromBit( x_val[ i, j, k ] )\n",
    "\n",
    "    for i in range( y_val.shape[ 0 ] ) :\n",
    "        for j in range( y_val.shape[ 1 ] ) :\n",
    "            y_val[ i, j ] = fromBit( y_val[ i, j ] )\n",
    "\n",
    "    lstm_model = tf.keras.Sequential()\n",
    "    lstm_model.add(\n",
    "      tf.keras.layers.LSTM(\n",
    "          units=8, \n",
    "          input_shape=[x_train.shape[1], x_train.shape[2]],\n",
    "          activation=af_LSTM, recurrent_activation=raf_LSTM,\n",
    "          unroll =False,\n",
    "          use_bias=True,\n",
    "          recurrent_dropout=0,\n",
    "          return_sequences=False\n",
    "      )\n",
    "    )\n",
    "\n",
    "    lstm_model.add(tf.keras.layers.Dense(y_train.shape[1], activation=af_dense))\n",
    "    if(optimizer_dense == 'adam'):\n",
    "        lstm_model.compile(loss='mse', optimizer=Adam(learning_rate = learningrate, decay=0), metrics=['mse'])\n",
    "    else:\n",
    "        lstm_model.compile(loss='mse', optimizer=SGD(learning_rate = learningrate), metrics=['mse'])\n",
    "    \n",
    "    for loop in range(LOOP_NUMBER):\n",
    "        strt_time = datetime.datetime.now() \n",
    "        \n",
    "        lstm_model.fit(\n",
    "            x_train, y_train, \n",
    "            batch_size=1,\n",
    "            verbose=1, # Suppress chatty output; use Tensorboard instead\n",
    "            epochs=epoch_no,\n",
    "            validation_data=(x_val, y_val),\n",
    "            shuffle=True,\n",
    "            callbacks=[tf.keras.callbacks.TerminateOnNaN()],\n",
    "        )\n",
    "        display(lstm_model.summary())\n",
    "        curr_time = datetime.datetime.now()\n",
    "        timedelta = curr_time - strt_time\n",
    "        dnn_train_time = timedelta.total_seconds()\n",
    "        \n",
    "        val_performance = lstm_model.evaluate(x_val, y_val)\n",
    "\n",
    "        display(val_performance)\n",
    "        y_pred = lstm_model.predict(x_val, verbose=1)\n",
    "\n",
    "        count = 0\n",
    "        numCorrect = 0\n",
    "        for i in range( y_pred.shape[ 0 ] ) :\n",
    "             for j in range( y_pred.shape[ 1 ] ) :\n",
    "                count += 1\n",
    "                if isCorrect( y_val[ i, j ], y_pred[ i, j ] ) :\n",
    "                    numCorrect += 1\n",
    "\n",
    "        print( f'Prediction_Accuracy_{loop} = {round(numCorrect / count,5)}' )\n",
    "        result.loc[f'val_acc_{loop}'] = round(val_performance[1], 5)\n",
    "        result.loc[f'pred_acc_{loop}'] = round(numCorrect / count, 5)\n",
    "#     result.to_csv('./results/demo' + results_item, index=True)"
   ]
  },
  {
   "cell_type": "code",
   "execution_count": null,
   "id": "95c6ac56-cd79-40db-b967-72f338a6a1cf",
   "metadata": {},
   "outputs": [],
   "source": [
    "val_performance = lstm_model.evaluate(x_val, y_val)\n",
    "display(val_performance)\n",
    "y_pred = lstm_model.predict(x_val, verbose=1)"
   ]
  },
  {
   "cell_type": "code",
   "execution_count": null,
   "id": "65b0d509-5938-4893-b4c9-e84a4a717a85",
   "metadata": {},
   "outputs": [],
   "source": [
    "mse = tf.keras.metrics.MeanSquaredError()\n",
    "display(mse(y_val, y_pred))\n",
    "display(y_val)\n",
    "display(y_pred)"
   ]
  },
  {
   "cell_type": "code",
   "execution_count": null,
   "id": "bef0098e-e3c1-405d-a37b-d91e27c4a722",
   "metadata": {},
   "outputs": [],
   "source": [
    "tf.math.squared_difference(y_val, y_pred)"
   ]
  },
  {
   "cell_type": "code",
   "execution_count": null,
   "id": "6f4575b4-a5eb-46f3-8a60-1fc6163c60eb",
   "metadata": {},
   "outputs": [],
   "source": []
  }
 ],
 "metadata": {
  "kernelspec": {
   "display_name": "py385_gpu",
   "language": "python",
   "name": "py385_gpu"
  },
  "language_info": {
   "codemirror_mode": {
    "name": "ipython",
    "version": 3
   },
   "file_extension": ".py",
   "mimetype": "text/x-python",
   "name": "python",
   "nbconvert_exporter": "python",
   "pygments_lexer": "ipython3",
   "version": "3.8.5"
  }
 },
 "nbformat": 4,
 "nbformat_minor": 5
}
